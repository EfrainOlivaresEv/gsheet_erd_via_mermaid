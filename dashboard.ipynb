{
 "cells": [
  {
   "cell_type": "code",
   "execution_count": 1,
   "id": "596b115e-e535-4aef-95c1-a4eeed6c22be",
   "metadata": {},
   "outputs": [],
   "source": [
    "import pandas as pd\n",
    "# requires install installing:\n",
    "# * xlrd for xls extension\n",
    "# * openpyxl for xlsx extension\n",
    "import csv\n",
    "import re\n",
    "#% Dump sheets as csvs from an excel file quickly with pandas\n",
    "def extract_sheets_as_csvs(fname, out_folder):\n",
    "    assert fname.endswith('.xlsx'), \"Filename must be xlsx format\"\n",
    "    assert out_folder.endswith('/'), \"out_folder must like folder1/folder2/ and end with /\"\n",
    "    \n",
    "    xls = pd.ExcelFile(fname)\n",
    "\n",
    "    for sheet in xls.sheet_names:\n",
    "        obj_sheet = pd.read_excel(xls, sheet, header=0, dtype=str)\n",
    "        obj_sheet.to_csv(out_folder+sheet+'.csv', index=False)\n",
    "    return True"
   ]
  },
  {
   "cell_type": "code",
   "execution_count": 2,
   "id": "6a51e40b-cc3d-4942-8424-44cdcc50c561",
   "metadata": {},
   "outputs": [],
   "source": [
    "assert extract_sheets_as_csvs('data_dict_tables.xlsx', 'tables/')"
   ]
  },
  {
   "cell_type": "code",
   "execution_count": 3,
   "id": "bdcc36ac-ea55-4101-9ce7-d2fbbbb5b961",
   "metadata": {},
   "outputs": [
    {
     "data": {
      "text/plain": [
       "['tables/TABLE.csv',\n",
       " 'tables/TABLE_QA.csv',\n",
       " 'tables/TABLE_AUTOMATION.csv',\n",
       " 'tables/GROUP.csv',\n",
       " 'tables/PROJECTS.csv',\n",
       " 'tables/APP.csv']"
      ]
     },
     "execution_count": 3,
     "metadata": {},
     "output_type": "execute_result"
    }
   ],
   "source": [
    "from glob import glob\n",
    "the_tables = [table for table in glob('tables/*.csv') if '_RELATIONSHIPS.csv' not in table]\n",
    "the_tables"
   ]
  },
  {
   "cell_type": "code",
   "execution_count": 4,
   "id": "bd24362d-dc06-4ba3-9f76-34ec992aeda6",
   "metadata": {},
   "outputs": [
    {
     "data": {
      "text/html": [
       "<div>\n",
       "<style scoped>\n",
       "    .dataframe tbody tr th:only-of-type {\n",
       "        vertical-align: middle;\n",
       "    }\n",
       "\n",
       "    .dataframe tbody tr th {\n",
       "        vertical-align: top;\n",
       "    }\n",
       "\n",
       "    .dataframe thead th {\n",
       "        text-align: right;\n",
       "    }\n",
       "</style>\n",
       "<table border=\"1\" class=\"dataframe\">\n",
       "  <thead>\n",
       "    <tr style=\"text-align: right;\">\n",
       "      <th></th>\n",
       "      <th>first-entity</th>\n",
       "      <th>left-rel</th>\n",
       "      <th>line</th>\n",
       "      <th>right-rel</th>\n",
       "      <th>second-entity</th>\n",
       "      <th>relationship-label</th>\n",
       "    </tr>\n",
       "  </thead>\n",
       "  <tbody>\n",
       "    <tr>\n",
       "      <th>0</th>\n",
       "      <td>PROJECTS</td>\n",
       "      <td>}o</td>\n",
       "      <td>--</td>\n",
       "      <td>o{</td>\n",
       "      <td>APP</td>\n",
       "      <td>NaN</td>\n",
       "    </tr>\n",
       "    <tr>\n",
       "      <th>1</th>\n",
       "      <td>APP</td>\n",
       "      <td>}o</td>\n",
       "      <td>--</td>\n",
       "      <td>o{</td>\n",
       "      <td>GROUP</td>\n",
       "      <td>NaN</td>\n",
       "    </tr>\n",
       "    <tr>\n",
       "      <th>2</th>\n",
       "      <td>GROUP</td>\n",
       "      <td>}o</td>\n",
       "      <td>--</td>\n",
       "      <td>o{</td>\n",
       "      <td>TABLE</td>\n",
       "      <td>NaN</td>\n",
       "    </tr>\n",
       "    <tr>\n",
       "      <th>3</th>\n",
       "      <td>GROUP</td>\n",
       "      <td>}o</td>\n",
       "      <td>--</td>\n",
       "      <td>o{</td>\n",
       "      <td>TABLE_AUTOMATION</td>\n",
       "      <td>NaN</td>\n",
       "    </tr>\n",
       "    <tr>\n",
       "      <th>4</th>\n",
       "      <td>TABLE_AUTOMATION</td>\n",
       "      <td>}o</td>\n",
       "      <td>--</td>\n",
       "      <td>o{</td>\n",
       "      <td>TABLE_QA</td>\n",
       "      <td>NaN</td>\n",
       "    </tr>\n",
       "    <tr>\n",
       "      <th>5</th>\n",
       "      <td>TABLE_QA</td>\n",
       "      <td>}o</td>\n",
       "      <td>--</td>\n",
       "      <td>o{</td>\n",
       "      <td>TABLE_AUTOMATION</td>\n",
       "      <td>NaN</td>\n",
       "    </tr>\n",
       "  </tbody>\n",
       "</table>\n",
       "</div>"
      ],
      "text/plain": [
       "       first-entity left-rel line right-rel     second-entity  \\\n",
       "0          PROJECTS       }o   --        o{               APP   \n",
       "1               APP       }o   --        o{             GROUP   \n",
       "2             GROUP       }o   --        o{             TABLE   \n",
       "3             GROUP       }o   --        o{  TABLE_AUTOMATION   \n",
       "4  TABLE_AUTOMATION       }o   --        o{          TABLE_QA   \n",
       "5          TABLE_QA       }o   --        o{  TABLE_AUTOMATION   \n",
       "\n",
       "   relationship-label  \n",
       "0                 NaN  \n",
       "1                 NaN  \n",
       "2                 NaN  \n",
       "3                 NaN  \n",
       "4                 NaN  \n",
       "5                 NaN  "
      ]
     },
     "execution_count": 4,
     "metadata": {},
     "output_type": "execute_result"
    }
   ],
   "source": [
    "df = pd.read_csv('tables/_RELATIONSHIPS.csv')\n",
    "df"
   ]
  },
  {
   "cell_type": "code",
   "execution_count": 5,
   "id": "03af1590-f71c-41c1-8423-0018b25747b3",
   "metadata": {},
   "outputs": [],
   "source": [
    "def extract_relationships_as_erd(table):\n",
    "    with open(table, 'r') as source:\n",
    "        d_rows = csv.DictReader(source)\n",
    "        for row in d_rows:\n",
    "            entry = \"{} {}{}{} {} : {}\".format(\n",
    "                row['first-entity'],\n",
    "                row['left-rel'],\n",
    "                row['line'],\n",
    "                row['right-rel'],\n",
    "                row['second-entity'], \n",
    "                '\"\"')\n",
    "            print(entry)"
   ]
  },
  {
   "cell_type": "code",
   "execution_count": 6,
   "id": "4a4b5e4c-1a8a-414d-9ac1-73001215f5fd",
   "metadata": {},
   "outputs": [],
   "source": [
    "def convert_to_erd(table):\n",
    "    gs = re.search(r'\\/(?P<table_name>[A-Z_]+)\\.csv', table)\n",
    "    root_name = gs.groupdict()['table_name']\n",
    "    with open(table, 'r') as source:\n",
    "        d_rows = csv.DictReader(source)\n",
    "        print(\"{} {}\".format(root_name, \"{\"))\n",
    "        for row in d_rows:\n",
    "            print(\"    {}  {}\".format(row['Type'], row['Name']))\n",
    "        print(\"}\")"
   ]
  },
  {
   "cell_type": "code",
   "execution_count": 8,
   "id": "e4c85e2b-bbb5-4ae1-8a8e-93a008717e6f",
   "metadata": {},
   "outputs": [
    {
     "name": "stdout",
     "output_type": "stream",
     "text": [
      "erDiagram\n",
      "PROJECTS }o--o{ APP : \"\"\n",
      "APP }o--o{ GROUP : \"\"\n",
      "GROUP }o--o{ TABLE : \"\"\n",
      "GROUP }o--o{ TABLE_AUTOMATION : \"\"\n",
      "TABLE_AUTOMATION }o--o{ TABLE_QA : \"\"\n",
      "TABLE_QA }o--o{ TABLE_AUTOMATION : \"\"\n",
      "TABLE {\n",
      "    string  column\n",
      "    string  description\n",
      "    string  nullable\n",
      "    string  unique\n",
      "    string  format\n",
      "    string  active\n",
      "}\n",
      "TABLE_QA {\n",
      "    string  table\n",
      "    string  column\n",
      "    string  test_id\n",
      "    string  description\n",
      "    string  priority\n",
      "}\n",
      "TABLE_AUTOMATION {\n",
      "    string  column\n",
      "    string  format\n",
      "    string  nullable\n",
      "    string  length\n",
      "    string  type\n",
      "    string  enumeration\n",
      "}\n",
      "GROUP {\n",
      "    string  group\n",
      "    string  table_name\n",
      "    string  format\n",
      "}\n",
      "PROJECTS {\n",
      "    string  project\n",
      "    string  vpn\n",
      "    string  s3_output_path\n",
      "    string  app\n",
      "}\n",
      "APP {\n",
      "    string  app\n",
      "    string  group\n",
      "}\n"
     ]
    }
   ],
   "source": [
    "print(\"erDiagram\")\n",
    "extract_relationships_as_erd('tables/_RELATIONSHIPS.csv')\n",
    "for table in the_tables:\n",
    "    convert_to_erd(table)"
   ]
  },
  {
   "cell_type": "code",
   "execution_count": null,
   "id": "61b3cdd4-dee9-4ed1-90b7-cf8f39ce07bc",
   "metadata": {},
   "outputs": [],
   "source": []
  }
 ],
 "metadata": {
  "kernelspec": {
   "display_name": "Python 3",
   "language": "python",
   "name": "python3"
  },
  "language_info": {
   "codemirror_mode": {
    "name": "ipython",
    "version": 3
   },
   "file_extension": ".py",
   "mimetype": "text/x-python",
   "name": "python",
   "nbconvert_exporter": "python",
   "pygments_lexer": "ipython3",
   "version": "3.7.7"
  }
 },
 "nbformat": 4,
 "nbformat_minor": 5
}
